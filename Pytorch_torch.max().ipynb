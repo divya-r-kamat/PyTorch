{
  "nbformat": 4,
  "nbformat_minor": 0,
  "metadata": {
    "colab": {
      "name": "Pytorch max function.ipynb",
      "provenance": [],
      "authorship_tag": "ABX9TyPab2idWChxuTtERy3hzPpG",
      "include_colab_link": true
    },
    "kernelspec": {
      "name": "python3",
      "display_name": "Python 3"
    }
  },
  "cells": [
    {
      "cell_type": "markdown",
      "metadata": {
        "id": "view-in-github",
        "colab_type": "text"
      },
      "source": [
        "<a href=\"https://colab.research.google.com/github/divya-r-kamat/PyTorch/blob/master/Pytorch_torch.max().ipynb\" target=\"_parent\"><img src=\"https://colab.research.google.com/assets/colab-badge.svg\" alt=\"Open In Colab\"/></a>"
      ]
    },
    {
      "cell_type": "markdown",
      "metadata": {
        "id": "L86dYskSIR7B",
        "colab_type": "text"
      },
      "source": [
        "This notebook demonstrates the usage of pytorch's max() function, as the name depicts we can say that this function return's maximum element from the given tensor. "
      ]
    },
    {
      "cell_type": "code",
      "metadata": {
        "id": "yELVElaSGv74",
        "colab_type": "code",
        "colab": {}
      },
      "source": [
        "import torch"
      ],
      "execution_count": 1,
      "outputs": []
    },
    {
      "cell_type": "code",
      "metadata": {
        "id": "1MRA50dHHYMh",
        "colab_type": "code",
        "colab": {
          "base_uri": "https://localhost:8080/",
          "height": 51
        },
        "outputId": "dd8fdbcc-2ec9-4f3a-867d-a9abc4fa579a"
      },
      "source": [
        "p = torch.randn([2, 3])\n",
        "print(p)\n",
        "\n",
        " \n"
      ],
      "execution_count": 2,
      "outputs": [
        {
          "output_type": "stream",
          "text": [
            "tensor([[ 2.6088, -0.0161, -1.1440],\n",
            "        [-0.5904, -1.5690,  0.7700]])\n"
          ],
          "name": "stdout"
        }
      ]
    },
    {
      "cell_type": "code",
      "metadata": {
        "id": "ohgzfHWiHd8x",
        "colab_type": "code",
        "colab": {
          "base_uri": "https://localhost:8080/",
          "height": 34
        },
        "outputId": "46b69734-d3d5-404d-909d-1f4eb5b89fe6"
      },
      "source": [
        "torch.max(p)"
      ],
      "execution_count": 3,
      "outputs": [
        {
          "output_type": "execute_result",
          "data": {
            "text/plain": [
              "tensor(2.6088)"
            ]
          },
          "metadata": {
            "tags": []
          },
          "execution_count": 3
        }
      ]
    },
    {
      "cell_type": "code",
      "metadata": {
        "id": "ryPimm7KHbyj",
        "colab_type": "code",
        "colab": {
          "base_uri": "https://localhost:8080/",
          "height": 51
        },
        "outputId": "c18f6b53-4a67-4d72-ab23-b64ff200c5fe"
      },
      "source": [
        "# Get the maximum along dim = 0 (axis = 0) - Maximum along columns\n",
        "max_elements, max_idxs = torch.max(p, dim=0)\n",
        "print(max_elements)\n",
        "print(max_idxs)"
      ],
      "execution_count": 4,
      "outputs": [
        {
          "output_type": "stream",
          "text": [
            "tensor([ 2.6088, -0.0161,  0.7700])\n",
            "tensor([0, 0, 1])\n"
          ],
          "name": "stdout"
        }
      ]
    },
    {
      "cell_type": "code",
      "metadata": {
        "id": "0TF194VDHjoT",
        "colab_type": "code",
        "colab": {
          "base_uri": "https://localhost:8080/",
          "height": 51
        },
        "outputId": "573e4a62-6097-44e3-fbe2-74e34ddeb307"
      },
      "source": [
        "# Get the maximum along dim = 1 (axis = 1) - Maximum along rows\n",
        "max_elements, max_idxs = torch.max(p, dim=1)\n",
        "print(max_elements)\n",
        "print(max_idxs)"
      ],
      "execution_count": 5,
      "outputs": [
        {
          "output_type": "stream",
          "text": [
            "tensor([2.6088, 0.7700])\n",
            "tensor([0, 2])\n"
          ],
          "name": "stdout"
        }
      ]
    },
    {
      "cell_type": "code",
      "metadata": {
        "id": "0wN1Pvs4HsN2",
        "colab_type": "code",
        "colab": {
          "base_uri": "https://localhost:8080/",
          "height": 119
        },
        "outputId": "f5367667-6bd7-4202-b63d-c41ca448fb76"
      },
      "source": [
        "p = torch.randn([2, 3])\n",
        "q = torch.randn([2, 3])\n",
        " \n",
        "print(\"p =\", p)\n",
        "print(\"q =\",q)\n",
        " \n",
        "# Compare elements of p and q and get the maximum\n",
        "max_elements = torch.max(p, q)\n",
        " \n",
        "print(max_elements)"
      ],
      "execution_count": 6,
      "outputs": [
        {
          "output_type": "stream",
          "text": [
            "p = tensor([[-0.7232, -0.6402, -1.2193],\n",
            "        [ 0.0794,  0.0158,  2.0138]])\n",
            "q = tensor([[ 1.1492, -0.1400, -0.2463],\n",
            "        [ 0.3812, -2.1384,  0.5132]])\n",
            "tensor([[ 1.1492, -0.1400, -0.2463],\n",
            "        [ 0.3812,  0.0158,  2.0138]])\n"
          ],
          "name": "stdout"
        }
      ]
    },
    {
      "cell_type": "code",
      "metadata": {
        "id": "D50H6LzsIHRG",
        "colab_type": "code",
        "colab": {}
      },
      "source": [
        ""
      ],
      "execution_count": null,
      "outputs": []
    }
  ]
}